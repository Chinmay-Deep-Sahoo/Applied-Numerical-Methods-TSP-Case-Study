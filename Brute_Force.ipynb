{
 "cells": [
  {
   "cell_type": "code",
   "execution_count": 1,
   "metadata": {},
   "outputs": [],
   "source": [
    "import itertools\n",
    "import pandas as pd\n",
    "import numpy as np\n",
    "import sys"
   ]
  },
  {
   "cell_type": "code",
   "execution_count": 2,
   "metadata": {},
   "outputs": [],
   "source": [
    "class Solver:\n",
    "    def __init__(self, constraints : list, sign : list, constraint_values : list, df : pd.DataFrame):\n",
    "        self.constraints = constraints\n",
    "        self.sign = sign\n",
    "        self.constraint_values = constraint_values\n",
    "        self.df = df\n",
    "\n",
    "    def checkAllConstraints(self, values : pd.Series):\n",
    "    \n",
    "        for i in range(len(self.constraints)):\n",
    "            cur_constraint = (self.constraints[i]).split(\" + \")\n",
    "            # print(cur_constraint)\n",
    "\n",
    "            LHS = 0\n",
    "            for j in range(len(cur_constraint)):\n",
    "                LHS += values[cur_constraint[j]]\n",
    "\n",
    "            if self.sign[i] == \"eq\":\n",
    "                if LHS != self.constraint_values[i]:\n",
    "                    return False\n",
    "\n",
    "            elif self.sign[i] == \"leq\":\n",
    "                if LHS > self.constraint_values[i]:\n",
    "                    return False\n",
    "\n",
    "        return True\n",
    "\n",
    "    def findValidSolutions(self):\n",
    "        self.valid_sols = []\n",
    "        for i in range(self.df.shape[0]):\n",
    "            valid = self.checkAllConstraints(self.df.loc[i])\n",
    "\n",
    "            if valid == True:\n",
    "                self.valid_sols.append(i)\n",
    "        return self.valid_sols\n",
    "\n",
    "    def Z(self, row, coeficients):\n",
    "        values = self.df.loc[row]\n",
    "        return np.dot(values,coeficients)\n",
    "\n",
    "    def findOptimumSolution(self, coeficients : list):\n",
    "        self.findValidSolutions()\n",
    "        min_ans = sys.maxsize\n",
    "        for i in range(len(self.valid_sols)):\n",
    "            cur_ans = self.Z(self.valid_sols[i], coeficients)\n",
    "            if cur_ans < min_ans:\n",
    "                min_ans = cur_ans\n",
    "                row = self.valid_sols[i]\n",
    "        return self.df.loc[row]\n",
    "\n",
    "    def printOptimumPath(self, coeficients : list):\n",
    "        series = self.findOptimumSolution(coeficients)\n",
    "        path = []\n",
    "        for i in range(series.shape[0]):\n",
    "            if series[i] == 1:\n",
    "                path.append(series.index[i])\n",
    "        return path"
   ]
  },
  {
   "cell_type": "code",
   "execution_count": 3,
   "metadata": {},
   "outputs": [
    {
     "data": {
      "text/html": [
       "<div>\n",
       "<style scoped>\n",
       "    .dataframe tbody tr th:only-of-type {\n",
       "        vertical-align: middle;\n",
       "    }\n",
       "\n",
       "    .dataframe tbody tr th {\n",
       "        vertical-align: top;\n",
       "    }\n",
       "\n",
       "    .dataframe thead th {\n",
       "        text-align: right;\n",
       "    }\n",
       "</style>\n",
       "<table border=\"1\" class=\"dataframe\">\n",
       "  <thead>\n",
       "    <tr style=\"text-align: right;\">\n",
       "      <th></th>\n",
       "      <th>X12</th>\n",
       "      <th>X13</th>\n",
       "      <th>X14</th>\n",
       "      <th>X21</th>\n",
       "      <th>X23</th>\n",
       "      <th>X32</th>\n",
       "      <th>X24</th>\n",
       "      <th>X42</th>\n",
       "      <th>X31</th>\n",
       "      <th>X34</th>\n",
       "      <th>X43</th>\n",
       "      <th>X41</th>\n",
       "    </tr>\n",
       "  </thead>\n",
       "  <tbody>\n",
       "    <tr>\n",
       "      <th>0</th>\n",
       "      <td>0</td>\n",
       "      <td>0</td>\n",
       "      <td>0</td>\n",
       "      <td>0</td>\n",
       "      <td>0</td>\n",
       "      <td>0</td>\n",
       "      <td>0</td>\n",
       "      <td>0</td>\n",
       "      <td>0</td>\n",
       "      <td>0</td>\n",
       "      <td>0</td>\n",
       "      <td>0</td>\n",
       "    </tr>\n",
       "    <tr>\n",
       "      <th>1</th>\n",
       "      <td>0</td>\n",
       "      <td>0</td>\n",
       "      <td>0</td>\n",
       "      <td>0</td>\n",
       "      <td>0</td>\n",
       "      <td>0</td>\n",
       "      <td>0</td>\n",
       "      <td>0</td>\n",
       "      <td>0</td>\n",
       "      <td>0</td>\n",
       "      <td>0</td>\n",
       "      <td>1</td>\n",
       "    </tr>\n",
       "    <tr>\n",
       "      <th>2</th>\n",
       "      <td>0</td>\n",
       "      <td>0</td>\n",
       "      <td>0</td>\n",
       "      <td>0</td>\n",
       "      <td>0</td>\n",
       "      <td>0</td>\n",
       "      <td>0</td>\n",
       "      <td>0</td>\n",
       "      <td>0</td>\n",
       "      <td>0</td>\n",
       "      <td>1</td>\n",
       "      <td>0</td>\n",
       "    </tr>\n",
       "    <tr>\n",
       "      <th>3</th>\n",
       "      <td>0</td>\n",
       "      <td>0</td>\n",
       "      <td>0</td>\n",
       "      <td>0</td>\n",
       "      <td>0</td>\n",
       "      <td>0</td>\n",
       "      <td>0</td>\n",
       "      <td>0</td>\n",
       "      <td>0</td>\n",
       "      <td>0</td>\n",
       "      <td>1</td>\n",
       "      <td>1</td>\n",
       "    </tr>\n",
       "    <tr>\n",
       "      <th>4</th>\n",
       "      <td>0</td>\n",
       "      <td>0</td>\n",
       "      <td>0</td>\n",
       "      <td>0</td>\n",
       "      <td>0</td>\n",
       "      <td>0</td>\n",
       "      <td>0</td>\n",
       "      <td>0</td>\n",
       "      <td>0</td>\n",
       "      <td>1</td>\n",
       "      <td>0</td>\n",
       "      <td>0</td>\n",
       "    </tr>\n",
       "  </tbody>\n",
       "</table>\n",
       "</div>"
      ],
      "text/plain": [
       "   X12  X13  X14  X21  X23  X32  X24  X42  X31  X34  X43  X41\n",
       "0    0    0    0    0    0    0    0    0    0    0    0    0\n",
       "1    0    0    0    0    0    0    0    0    0    0    0    1\n",
       "2    0    0    0    0    0    0    0    0    0    0    1    0\n",
       "3    0    0    0    0    0    0    0    0    0    0    1    1\n",
       "4    0    0    0    0    0    0    0    0    0    1    0    0"
      ]
     },
     "execution_count": 3,
     "metadata": {},
     "output_type": "execute_result"
    }
   ],
   "source": [
    "all_pos_sols = pd.DataFrame(list(itertools.product([0, 1], repeat=12)), columns = [\"X12\", \"X13\", \"X14\", \"X21\", \"X23\", \"X32\", \"X24\", \"X42\", \"X31\", \"X34\", \"X43\", \"X41\"])\n",
    "all_pos_sols.head()"
   ]
  },
  {
   "cell_type": "code",
   "execution_count": 4,
   "metadata": {},
   "outputs": [],
   "source": [
    "const = [\"X12 + X13 + X14\", \"X21 + X31 + X41\", \"X21 + X24 + X23\", \"X12 + X42 + X32\", \"X34 + X31 + X32\", \"X23 + X13 + X43\", \"X14 + X24 + X34\", \"X41 + X42 + X43\",\n",
    "         \"X12 + X21\",\"X23 + X32\",\"X34 + X43\",\"X14 + X41\",\"X13 + X31\",\"X24 + X42\",\n",
    "         \"X12 + X21 + X23 + X32 + X13 + X31\",\"X12 + X21 + X14 + X41 + X24 + X42\",\"X23 + X32 + X34 + X43 + X24 + X42\",\"X13 + X31 + X34 + X43 + X14 + X41\"]\n",
    "sign = [\"eq\",\"eq\",\"eq\",\"eq\",\"eq\",\"eq\",\"eq\",\"eq\",\n",
    "         \"leq\", \"leq\", \"leq\", \"leq\",\"leq\", \"leq\",\n",
    "         \"leq\",\"leq\",\"leq\",\"leq\"]\n",
    "const_vals = [1,1,1,1,1,1,1,1,\n",
    "          1,1,1,1,1,1,\n",
    "          2,2,2,2]"
   ]
  },
  {
   "cell_type": "code",
   "execution_count": 5,
   "metadata": {},
   "outputs": [],
   "source": [
    "model = Solver(const, sign, const_vals, all_pos_sols)"
   ]
  },
  {
   "cell_type": "code",
   "execution_count": 6,
   "metadata": {},
   "outputs": [],
   "source": [
    "coef = [15,35,30,15,10,10,15,15,35,20,20,30]"
   ]
  },
  {
   "cell_type": "code",
   "execution_count": 7,
   "metadata": {},
   "outputs": [
    {
     "data": {
      "text/plain": [
       "['X14', 'X21', 'X32', 'X43']"
      ]
     },
     "execution_count": 7,
     "metadata": {},
     "output_type": "execute_result"
    }
   ],
   "source": [
    "model.printOptimumPath(coef)"
   ]
  }
 ],
 "metadata": {
  "kernelspec": {
   "display_name": "Python 3.10.1 64-bit",
   "language": "python",
   "name": "python3"
  },
  "language_info": {
   "codemirror_mode": {
    "name": "ipython",
    "version": 3
   },
   "file_extension": ".py",
   "mimetype": "text/x-python",
   "name": "python",
   "nbconvert_exporter": "python",
   "pygments_lexer": "ipython3",
   "version": "3.10.1"
  },
  "orig_nbformat": 4,
  "vscode": {
   "interpreter": {
    "hash": "e4b444f792fbff6b064e16dd46d58b2c8126eac8e1e261c7b4c56b3fda4323e3"
   }
  }
 },
 "nbformat": 4,
 "nbformat_minor": 2
}
