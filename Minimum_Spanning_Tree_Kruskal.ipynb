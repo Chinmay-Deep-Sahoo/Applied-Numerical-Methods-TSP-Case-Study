{
 "cells": [
  {
   "cell_type": "code",
   "execution_count": 8,
   "metadata": {},
   "outputs": [],
   "source": [
    "class Graph:\n",
    "\n",
    "    #Class constructor, with argument vertices as total number of vertices in the graph\n",
    "    def __init__(self, vertices):\n",
    "        self.V = vertices\n",
    "        self.graph = []\n",
    "        self.neighbours = {}\n",
    "        self.visited = []\n",
    "\n",
    "        #Initialising all the nodes with 0 neighbours\n",
    "        for i in range(vertices):\n",
    "            self.neighbours[i] = []\n",
    "\n",
    "    #Private class method to store neighbours of each node while we add an edge\n",
    "    def __editNeighbours(self,u,v):\n",
    "            self.neighbours[u].append(v)\n",
    "            self.neighbours[v].append(u)\n",
    "            #self.neighbours = {0 : [1,2], 1 : [0,2], 2 : [0,1], ......}\n",
    "\n",
    "    #Class method to add a new edge between nodes u and v with weight w to the existing graph\n",
    "    def addEdge(self, u, v, w):\n",
    "        self.__editNeighbours(u,v)\n",
    "        self.graph.append([u,v,w])\n",
    "        #self.graph = [[node1, node2, weight], ......]\n",
    "\n",
    "    #Private class method to do depth first search starting from the node u\n",
    "    def __dfs(self,u):\n",
    "        self.visited.append(u)\n",
    "    \n",
    "        for i in self.neighbours[u]:\n",
    "            if i not in self.visited:\n",
    "                self.__dfs(i)\n",
    "\n",
    "    #Private class method to check for cycles in the graph when we add an edge between nodes u and v\n",
    "    def __cycle(self, u,v):\n",
    "        self.visited = []\n",
    "        self.__dfs(u)\n",
    "        return v in self.visited\n",
    "\n",
    "    #Class method to find the minimum spanning tree of the graph using Kruskal's Algorithm\n",
    "    def findMST(self):\n",
    "        self.graph = sorted(self.graph, key = lambda item : item[2])\n",
    "        E = len(self.graph)\n",
    "        T = Graph(self.V)\n",
    "\n",
    "        for i in range(E):\n",
    "            if T.__cycle(self.graph[i][0], self.graph[i][1]) == False:\n",
    "                T.addEdge(self.graph[i][0], self.graph[i][1], self.graph[i][2])\n",
    "        return T\n"
   ]
  },
  {
   "cell_type": "markdown",
   "metadata": {},
   "source": [
    "<center><h4>Proof of working of the code"
   ]
  },
  {
   "cell_type": "markdown",
   "metadata": {},
   "source": [
    "<center>\n",
    "<div>\n",
    "<img src=\"https://i.postimg.cc/Prgh5G8f/MST.png\" width=\"480\"/>\n",
    "</div>\n",
    "Expected output (Edges in the minimum spanning tree):<br>\n",
    "[0, 2, 1],<br>\n",
    "[7, 8, 2],<br>\n",
    "[8, 9, 2],<br>\n",
    "[1, 2, 3],<br>\n",
    "[6, 7, 3],<br>\n",
    "[0, 3, 4],<br>\n",
    "[3, 4, 7],<br>\n",
    "[4, 8, 8],<br>\n",
    "[4, 5, 8]<br>\n",
    "</center>"
   ]
  },
  {
   "cell_type": "code",
   "execution_count": 9,
   "metadata": {},
   "outputs": [],
   "source": [
    "G = Graph(10)\n",
    "\n",
    "G.addEdge(0,1,4)\n",
    "G.addEdge(0,2,1)\n",
    "G.addEdge(0,3,4)\n",
    "G.addEdge(1,2,3)\n",
    "G.addEdge(1,4,10)\n",
    "G.addEdge(1,5,18)\n",
    "G.addEdge(2,3,5)\n",
    "G.addEdge(2,4,9)\n",
    "G.addEdge(3,9,9)\n",
    "G.addEdge(3,8,9)\n",
    "G.addEdge(3,4,7)\n",
    "G.addEdge(4,8,8)\n",
    "G.addEdge(4,7,9)\n",
    "G.addEdge(4,5,8)\n",
    "G.addEdge(5,6,9)\n",
    "G.addEdge(5,7,9)\n",
    "G.addEdge(6,7,3)\n",
    "G.addEdge(6,9,6)\n",
    "G.addEdge(7,8,2)\n",
    "G.addEdge(7,9,4)\n",
    "G.addEdge(8,9,2)"
   ]
  },
  {
   "cell_type": "code",
   "execution_count": 10,
   "metadata": {},
   "outputs": [
    {
     "data": {
      "text/plain": [
       "[[0, 2, 1],\n",
       " [7, 8, 2],\n",
       " [8, 9, 2],\n",
       " [1, 2, 3],\n",
       " [6, 7, 3],\n",
       " [0, 3, 4],\n",
       " [3, 4, 7],\n",
       " [4, 8, 8],\n",
       " [4, 5, 8]]"
      ]
     },
     "execution_count": 10,
     "metadata": {},
     "output_type": "execute_result"
    }
   ],
   "source": [
    "T = G.findMST()\n",
    "T.graph"
   ]
  }
 ],
 "metadata": {
  "kernelspec": {
   "display_name": "Python 3.10.1 64-bit",
   "language": "python",
   "name": "python3"
  },
  "language_info": {
   "codemirror_mode": {
    "name": "ipython",
    "version": 3
   },
   "file_extension": ".py",
   "mimetype": "text/x-python",
   "name": "python",
   "nbconvert_exporter": "python",
   "pygments_lexer": "ipython3",
   "version": "3.10.1"
  },
  "orig_nbformat": 4,
  "vscode": {
   "interpreter": {
    "hash": "e4b444f792fbff6b064e16dd46d58b2c8126eac8e1e261c7b4c56b3fda4323e3"
   }
  }
 },
 "nbformat": 4,
 "nbformat_minor": 2
}
